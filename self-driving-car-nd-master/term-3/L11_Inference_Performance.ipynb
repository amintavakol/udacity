{
 "cells": [
  {
   "cell_type": "markdown",
   "metadata": {},
   "source": [
    "# Inference Performance"
   ]
  },
  {
   "cell_type": "markdown",
   "metadata": {},
   "source": [
    "As \n",
    "\n",
    "Outline\n",
    "- Fusion, quantisation, machine code (graph to binary) optimisation\n",
    "\n",
    "### Motivation\n",
    "Why performance (speed) matters: Can’t use cloud computing resources due to latency, have to make real-time predictions using on-device hardware.\n",
    "\n",
    "Semantic segmentation is computationally expensive. \n",
    "(img) \n",
    "Can improve performance by 3-5x using optimisations.\n",
    "\n",
    "1.  Freeze TensorFlow graph and save to a protobuf file\n",
    "\t2. In order to convert TF variables into constants -> reduces the number of operations, increases speed\n",
    "\t3. + other benefits\n",
    "2. Graph transforms\n",
    "3. \n",
    "\n",
    "### Fusion\n",
    "\n",
    "\t2. Fuse graph operations: reduces number of ops\n",
    "\t\t3. Each layer has to stores tensors. Only calls kernels once. \n",
    "\t\t4. Saves both memory and time.\n",
    "\t\t5. Typically only fuse during inference because we may want to preserve graph flexibility (add or remove layers) during training.\n",
    "\t\t6. Can do manually by coding a kernel that performs three fused ops together. \n",
    "\t\t7. Can automate by using optimizer than fuses common layers together.\n",
    "\t\t8. \n",
    "\t3. \n",
    "    \n",
    "    \n",
    "Most training done in single precision (32 bits, 23 significands).\n",
    "Increases bandwidth by 2x.\n",
    "Inference can be done in lower precision, e.g. half-precision (16 bits).\n",
    "* During training, error from using lower precision is amplified during back-propagation. So we \n",
    "\n",
    "### Quantization\n",
    "- Using integers instead of floating points\n",
    "- Saves CPU and memory resources:\n",
    "    - Integer arithmetic can be faster than floating point arithmetic\n",
    "    - More arithmetic throughput\n",
    "    - Lower memory footprint\n",
    "\n",
    "#### Conversions:\n",
    "1. Linear conversion\n",
    "    - Map 0:0, 1:128, 10:256.\n",
    "    - \\\n",
    "    \n",
    "### AOT vs JIT compilation\n",
    "- JIT: Just In Time\n",
    "- AOT: Ahead Of Time\n"
   ]
  }
 ],
 "metadata": {
  "kernelspec": {
   "display_name": "Python 3",
   "language": "python",
   "name": "python3"
  },
  "language_info": {
   "codemirror_mode": {
    "name": "ipython",
    "version": 3
   },
   "file_extension": ".py",
   "mimetype": "text/x-python",
   "name": "python",
   "nbconvert_exporter": "python",
   "pygments_lexer": "ipython3",
   "version": "3.6.1"
  }
 },
 "nbformat": 4,
 "nbformat_minor": 1
}
