{
 "cells": [
  {
   "cell_type": "markdown",
   "metadata": {},
   "source": [
    "# Markov Localisation\n",
    "\n",
    "Lesson outline:\n",
    "* Marvok localisation: Bayes Localisation Filter\n",
    "* Implement 1D Realisation of the Markov Localisation Filter in C++\n",
    "* Motion and Observation Model\n",
    "\n",
    "### Localisation blah\n",
    "![](images/11.1.png)\n",
    "\n",
    "* z: vector of observations from time 1 to t\n",
    "* m: assume map is fixed, so no time indices\n",
    "* Objective: Seek transformation between local coordinates of car and global coordinates of map\n",
    "    * Formulate belief bel(x_t)\n",
    "* SLAM problem if you wish to solve for map (not today)"
   ]
  },
  {
   "cell_type": "markdown",
   "metadata": {},
   "source": [
    "### Explaining input for 1D\n",
    "\n",
    "![](images/11.2a.png)\n",
    "![](images/11.2b.png)\n",
    "![](images/11.2c.png)\n",
    "\n",
    "* m: Work with Landmark-based maps (positions of lampposts, trees marked). \n",
    "    * Generally more sparse than grid-based maps.\n",
    "    * m = [1,5,10]\n",
    "* z: car measures nearest k seen static objects in the driving direction\n",
    "    * Observation list z_t = [...] length k\n",
    "* u: control vector includes direct move between consecutive time steps \n",
    "    * u = [[u_t,...,u_1], each u_t is the distance travelled by the car between time t and time t-1.\n",
    "* bel(x_t) = [p(x) car is at x_t=0, p(x) car is at x_t=1,...]\n",
    "\n",
    "Limitations:\n",
    "* How much data: 432 GB of data for 10Hz LIDAR across 6 hours, 5 pieces of 4byte data per observation\n",
    "\n",
    "*Structure of input data (coding quiz)*\n"
   ]
  },
  {
   "cell_type": "markdown",
   "metadata": {},
   "source": [
    "### Problems with estimating our belief directly\n",
    "\n",
    "![](images/11.3.png)\n",
    "\n",
    "- Requirements are the features we would like our filter to have.\n",
    "- Handles same amount of data per update (irrespective of amount of time the vehicle's been driving)\n",
    "\n",
    "* Idea: Update belief based only on bel(x_t-1) and new observation.\n",
    "* Markov assumption: concerns the relationship between uncertain quantities.\n",
    "\n",
    "Define localisation posterior:\n",
    "* Split observations into current and previous observations.\n",
    "\n",
    "![](images/11.4a.png)\n",
    "![](images/11.4b.png)\n",
    "\n",
    "Suppose we have no information about where the car was in the previous state x_{t-1}. \n",
    "- use Law of Total Probability\n",
    "\n",
    "![](images/11.5.png)\n",
    "\n",
    "- Predict x_t from x_t-1. Use controls to estimate x_t-1 as well as x_t.\n",
    "\n",
    "![](images/11.6.png)\n",
    "\n",
    "### Markov Assumptions\n",
    "\n",
    "#### First Order Markov Assumption\n",
    "\n",
    "![](images/11.7.png)\n",
    "\n",
    "* x_2 is the best predictor for x_3. States further back have no extra info that can predict x_3 better than that which x_2 has.\n",
    "    * i.e. x_3 is independent of x_0, x_1.\n",
    "* Therefore can rewrite posterior.\n",
    "* Important: x_0 must be initialised correctly.\n",
    "\n",
    "#### 2nd Markov Assumption\n",
    "* u_t tells us nothing about x_t-1 because u_t is in the future.\n",
    "\n",
    "Using the Markov Assumption to simplify our expression\n",
    "\n",
    "\n",
    "![](images/11.8a.png)\n",
    "![](images/11.8b.png)\n",
    "\n",
    "* Note on steps: Split control into u_t and previous controls\n",
    "   \n",
    "* After applying the Markov Assumption, the term p(x_t-1, ...m) describes the belief at x_{t-1}. This means we achieved a recursive structure!\n",
    "\n",
    "* Can replace integral by sum over x_is because we're in the discrete case.\n"
   ]
  },
  {
   "cell_type": "markdown",
   "metadata": {},
   "source": [
    "## Implementation Details for Motion Model\n",
    "\n",
    "![](images/11.9a.png)\n",
    "![](images/11.9b.png)\n",
    "\n",
    "* Transition model controlled only by x_t-1 and u_t.\n",
    "\n",
    "![](images/11.10.png)\n",
    "![](images/11.11.png)\n",
    "\n",
    "### Code"
   ]
  },
  {
   "cell_type": "code",
   "execution_count": null,
   "metadata": {
    "collapsed": true
   },
   "outputs": [],
   "source": []
  },
  {
   "cell_type": "markdown",
   "metadata": {},
   "source": [
    "## Observation Model\n",
    "\n",
    "![](images/11.12.png)\n",
    "\n",
    "* Simplify using the Markov Assumptions\n",
    "\n",
    "![](images/11.13a.png)\n",
    "![](images/11.13b.png)\n",
    "\n",
    "* Assume noise behaviour is independent (and all observations are independent)\n",
    "\n",
    "* Pseudo range: represent ranges assuming car can stand precisely at position x_t (on a point).\n",
    "\n",
    "\n",
    "### Bayes Localisation\n",
    "\n",
    "![](images/11.16.png)\n",
    "\n",
    "* Motion model includes transition model, belief at x_t-1.\n",
    "* Motion model also called prediction step for belief x_t.\n",
    "\n",
    "Observation step: new probabilities.\n",
    "\n",
    "### Code\n",
    "\n",
    "\n",
    "![](images/11.17.png)\n",
    "![](images/11.18.png)\n",
    "![](images/11.19.png)"
   ]
  }
 ],
 "metadata": {
  "kernelspec": {
   "display_name": "Python 3",
   "language": "python",
   "name": "python3"
  },
  "language_info": {
   "codemirror_mode": {
    "name": "ipython",
    "version": 3
   },
   "file_extension": ".py",
   "mimetype": "text/x-python",
   "name": "python",
   "nbconvert_exporter": "python",
   "pygments_lexer": "ipython3",
   "version": "3.6.0"
  }
 },
 "nbformat": 4,
 "nbformat_minor": 2
}
