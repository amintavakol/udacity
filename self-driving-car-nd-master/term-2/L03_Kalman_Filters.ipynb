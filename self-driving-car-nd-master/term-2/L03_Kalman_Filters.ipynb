{
 "cells": [
  {
   "cell_type": "markdown",
   "metadata": {},
   "source": [
    "# Kalman Filters\n",
    "\n",
    "Sensors:\n",
    "* Spinning Laser range finder: takes distance scans 10x / second, about 1M data points (each time). -> spot cars so you don't run into them.\n",
    "* Camera on top.\n",
    "* Stereo camera system\n",
    "* Antennas for GPS at rear to estimate where car is in the world.\n",
    "\n",
    "### Tracking using Kalman Filters\n",
    "* Similar to Monte Carlo localisation, except it's \n",
    "    * continuous (as opposed to divided into discrete grids)\n",
    "    * uni-model (as opposed to multi-modal)\n",
    "* Kalman filter estimates future locations based on previous locational datapoints (even if they're noisy).\n",
    "\n",
    "### Gaussian\n",
    "* 1-D Gaussian N(mu, sigma^2) -> only need to estimate two parameters.\n",
    "    * mu is the mean\n",
    "    * sigma^2 is the variance: measure of uncertainty\n",
    "* Facts:\n",
    "    * Continuous distribution, vs Monte Carlo localisation where distribution estimated by a histogram.\n",
    "    * Area under the Gaussian sums to 1.\n",
    "    * Exponential of a quadratic function\n",
    "\n",
    "We prefer low-variance Gaussians for locating cars."
   ]
  },
  {
   "cell_type": "code",
   "execution_count": 2,
   "metadata": {
    "collapsed": false
   },
   "outputs": [
    {
     "name": "stdout",
     "output_type": "stream",
     "text": [
      "0.12098536225957168\n"
     ]
    }
   ],
   "source": [
    "# Program the Gaussian\n",
    "from math import *\n",
    "\n",
    "def f(mu, sigma2, x):\n",
    "    return 1/sqrt(2.*pi*sigma2) * exp(-.5 * (x-mu)**2 / sigma2)\n",
    "\n",
    "print (f(10., 4., 8.))"
   ]
  },
  {
   "cell_type": "markdown",
   "metadata": {},
   "source": [
    "### Kalman Filter\n",
    "Iterates two things, as with localisation: \n",
    "1. Measurement updates\n",
    "    * By updating belief by a multiplicative factor (multiplying the Gaussians)\n",
    "    * Uses Bayes Rule\n",
    "2. Prediction (Motion updates in localisation)\n",
    "    * By performing a convolution (addition)\n",
    "    * Uses total Probability to keep track of where all of our probability 'goes' when we move\n",
    "    \n",
    "####  1. Measurement cycle\n",
    "* Mean:\n",
    "    * The lower the variance of our new measurement, the more weight we give it (pull our prior mean towards the measurement mean).\n",
    "* Variance:\n",
    "    * More measurements -> greater certainty (lower variance). New Gaussian has lower variance than either the prior or the measurement Gaussian.\n",
    "    * Unaffected by means \n",
    "    \n",
    "[](measurement-cycle.png)"
   ]
  },
  {
   "cell_type": "code",
   "execution_count": 4,
   "metadata": {
    "collapsed": false
   },
   "outputs": [
    {
     "name": "stdout",
     "output_type": "stream",
     "text": [
      "[12.4, 1.6]\n"
     ]
    }
   ],
   "source": [
    "# Write a program to update your mean and variance\n",
    "# when given the mean and variance of your belief\n",
    "# and the mean and variance of your measurement.\n",
    "# This program will update the parameters of your\n",
    "# belief function.\n",
    "\n",
    "def update(mean1, var1, mean2, var2):\n",
    "    new_mean = (mean1 * var2 + mean2 * var1)/(var1 + var2)\n",
    "    new_var = 1/ (1/var1 + 1/var2)\n",
    "    return [new_mean, new_var]\n",
    "\n",
    "print(update(10.,8.,13., 2.))"
   ]
  },
  {
   "cell_type": "markdown",
   "metadata": {},
   "source": [
    "#### 2. Motion Update (Prediction)\n",
    "* Suppose you move to the right by a certain distance. Your movement has some uncertainty, so variance increases.\n",
    "[](motion-update.png)"
   ]
  },
  {
   "cell_type": "code",
   "execution_count": 7,
   "metadata": {
    "collapsed": false
   },
   "outputs": [
    {
     "name": "stdout",
     "output_type": "stream",
     "text": [
      "Update:  [4.998000799680128, 3.9984006397441023]\n",
      "Predict:  [5.998000799680128, 5.998400639744102]\n",
      "Update:  [5.999200191953932, 2.399744061425258]\n",
      "Predict:  [6.999200191953932, 4.399744061425258]\n",
      "Update:  [6.999619127420922, 2.0951800575117594]\n",
      "Predict:  [8.999619127420921, 4.09518005751176]\n",
      "Update:  [8.999811802788143, 2.0235152416216957]\n",
      "Predict:  [9.999811802788143, 4.023515241621696]\n",
      "Update:  [9.999906177177365, 2.0058615808441944]\n",
      "Predict:  [10.999906177177365, 4.005861580844194]\n",
      "[10.999906177177365, 4.005861580844194]\n"
     ]
    }
   ],
   "source": [
    "# Write a program that will iteratively update and\n",
    "# predict based on the location measurements \n",
    "# and inferred motions shown below. \n",
    "\n",
    "def update(mean1, var1, mean2, var2):\n",
    "    new_mean = float(var2 * mean1 + var1 * mean2) / (var1 + var2)\n",
    "    new_var = 1./(1./var1 + 1./var2)\n",
    "    return [new_mean, new_var]\n",
    "\n",
    "def predict(mean1, var1, mean2, var2):\n",
    "    new_mean = mean1 + mean2\n",
    "    new_var = var1 + var2\n",
    "    return [new_mean, new_var]\n",
    "\n",
    "measurements = [5., 6., 7., 9., 10.]\n",
    "motion = [1., 1., 2., 1., 1.]\n",
    "measurement_sig = 4.\n",
    "motion_sig = 2.\n",
    "mu = 0.\n",
    "sig = 10000.\n",
    "\n",
    "#Please print out ONLY the final values of the mean\n",
    "#and the variance in a list [mu, sig]. \n",
    "\n",
    "# Insert code here\n",
    "for i in range(len(measurements)):\n",
    "    mu, sig = update(mu, sig, measurements[i], measurement_sig)\n",
    "    print('Update: ', [mu, sig])\n",
    "    mu, sig = predict(mu, sig, motion[i], motion_sig)\n",
    "    print('Predict: ', [mu, sig])\n",
    "print([mu, sig])\n"
   ]
  },
  {
   "cell_type": "markdown",
   "metadata": {},
   "source": [
    "It is unexpected that the code is so simple for a Kalman filter in 1D.\n",
    "\n",
    "### Multi-dimensional Kalman Filter\n",
    "* Implicitly figures out velocity from seeing multiple positions, and from that makes predictions about future location.\n",
    "\n",
    "#### Multivariate Gaussians\n",
    "\n",
    "E.g. contour lines of a 2D Gaussian:\n",
    "Tilted Gaussian (not parallel or perpendicular to x or y axes): x and y correlated.\n",
    "\n",
    "Build 2-dimensional estimate: one for location, one for velocity.\n",
    "\n",
    "If we project the new 2D Gaussian into the space of velocity or x, we can't predict the velocity or the location. But this Gaussian expresses that velocity is correlated to location.\n",
    "- img\n",
    "\n",
    "Now we fold in the second observation (green)\n",
    "\n",
    "\n",
    "and we can have our new predicted Gaussians (purple / blue Gaussians on the red Gaussian)\n",
    "\n",
    "\n",
    "- img\n",
    "Subsequent observables give us information about the hidden variables, so we can estimate hidden variables.\n",
    "\n",
    "#### Designing Kalman Filters\n",
    "* State transition function\n",
    "* Measurement function\n",
    "\n",
    "(img)\n",
    "\n",
    "Kalman Filtetr equations (don't need to know for this course)\n",
    "\n",
    "(img)\n",
    "\n",
    "K: Kalman gain\n",
    "Final lines in red: update\n"
   ]
  },
  {
   "cell_type": "code",
   "execution_count": null,
   "metadata": {
    "collapsed": true
   },
   "outputs": [],
   "source": [
    "# Multidimensional Kalman Filter\n"
   ]
  },
  {
   "cell_type": "markdown",
   "metadata": {},
   "source": [
    "#### Looking ahead\n",
    "\n",
    "Particle Filters\n",
    "* Easy to implement\n",
    "* Powerful\n"
   ]
  }
 ],
 "metadata": {
  "kernelspec": {
   "display_name": "Python 3",
   "language": "python",
   "name": "python3"
  },
  "language_info": {
   "codemirror_mode": {
    "name": "ipython",
    "version": 3
   },
   "file_extension": ".py",
   "mimetype": "text/x-python",
   "name": "python",
   "nbconvert_exporter": "python",
   "pygments_lexer": "ipython3",
   "version": "3.6.0"
  }
 },
 "nbformat": 4,
 "nbformat_minor": 2
}
