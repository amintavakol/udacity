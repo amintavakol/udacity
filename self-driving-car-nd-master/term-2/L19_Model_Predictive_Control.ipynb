{
 "cells": [
  {
   "cell_type": "markdown",
   "metadata": {},
   "source": [
    "# Model Predictive Control\n",
    "\n",
    "* Reframe problem of following trajectory as an optimisation problem\n",
    "* Predict result of trajectory and select trajectory with minimum cost\n",
    "* Implement first set of actuation. Take new state to calculate new optimal trajectory. Incremental calculating: 'receding horizon control'.\n",
    "\n",
    "### Cost functions\n",
    "#### Cost elements\n",
    "* State\n",
    "    * Cross-track error\n",
    "    * Orientation error\n",
    "    * Velocity error (velocity relative to reference velocity)\n",
    "    * Euclidean distance between current position and destination\n",
    "* Control input\n",
    "    * Large steering angle (jerking steering wheel)\n",
    "        * ```cost += pow(delta[t], 2);```\n",
    "    * Change-rate of control input to add smoothness\n",
    "        * ```for (int t = 0; t < N-1; t++) {\n",
    "  cost += pow(delta[t+1] - delta[t], 2)\n",
    "  cost += pow(a[t+1] - a[t], 2)\n",
    "}```\n",
    "    * Large change in steering angle: (larger `multiplier` -> smoother steering angle change)\n",
    "        * ```fg[0] += multiplier * CppAD::pow(vars[delta_start + i + 1] - vars[delta_start + i], 2);```\n",
    "\n",
    "#### Notes\n",
    "* Prediction horizon T = N * dt\n",
    "    * T: Duration over which future predictions are made\n",
    "    * N: Number of timesteps in the horizon\n",
    "    * dt: time elapsed between actuations, i.e. length of each timestep\n",
    "    * Guidelines: T should be as large as possible, dt as small as possible.\n",
    "        * But if T > a few seconds, environment changes enough that prediction doesn't make sense\n",
    "        * Large N: high computational cost\n",
    "        * Large dt: infrequent actuations, hard to accurately approximate a continuous reference trajectory (discretisation error)\n",
    "    \n",
    "### Model Predictive Control Algorithm\n",
    "Setup:\n",
    "\n",
    "1. Define the length of the trajectory, N, and duration of each timestep, dt.\n",
    "2. Define vehicle dynamics and actuator limitations along with other constraints.\n",
    "3. Define the cost function.\n",
    "\n",
    "Loop:\n",
    "\n",
    "1. We pass the current state as the initial state to the model predictive controller.\n",
    "2. We call the optimization solver. Given the initial state, the solver will return the vector of control inputs that minimizes the cost function. The solver we'll use is called Ipopt.\n",
    "3. We apply the first control input to the vehicle.\n",
    "4. Back to 1.\n",
    "\n",
    "#### Problem: Latency\n",
    "* Delay between actuation command and execution (e.g. 100ms)\n",
    "* Can model into system with MPC (vs PID controller hard to do that)\n"
   ]
  }
 ],
 "metadata": {
  "kernelspec": {
   "display_name": "Python 3",
   "language": "python",
   "name": "python3"
  },
  "language_info": {
   "codemirror_mode": {
    "name": "ipython",
    "version": 3
   },
   "file_extension": ".py",
   "mimetype": "text/x-python",
   "name": "python",
   "nbconvert_exporter": "python",
   "pygments_lexer": "ipython3",
   "version": "3.6.0"
  }
 },
 "nbformat": 4,
 "nbformat_minor": 2
}
