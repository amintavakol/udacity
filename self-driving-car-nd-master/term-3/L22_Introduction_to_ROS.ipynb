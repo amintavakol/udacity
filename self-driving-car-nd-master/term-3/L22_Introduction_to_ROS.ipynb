{
 "cells": [
  {
   "cell_type": "markdown",
   "metadata": {},
   "source": [
    "# L22 Introduction to ROS\n",
    "\n",
    "### ROS\n",
    "Robot Operating System (open source framework that simplifies robot development. Provides:\n",
    "- Means of talking to hardware without writing your own device drivers\n",
    "- Processes to communicate with each other via message passing\n",
    "- Tools for visualisation, simulation and analysis\n",
    "- Easier deployment and development of software\n",
    "\n",
    "#### Common components of a generic robot:\n",
    "- Sensors for perception\n",
    "- Software for making high-level decisions\n",
    "- Motors and controllers for actuation\n",
    "\n",
    "### Nodes and topics\n",
    "ROS breaks down these processes into many small processes called **nodes**.\n",
    "- e.g. position estimator, wheel encoder, camera, motor control\n",
    "\n",
    "How nodes can communicato with each other:\n",
    "1. Through the ROS master.\n",
    "    - ROS master acts as a:\n",
    "        - Manager of all the nodes.\n",
    "        - Parameter server. Stores parameter and config values.\n",
    "\n",
    "2. Message-passing over topics (named buses)\n",
    "    - Way for nodes to share data with each other\n",
    "    - Bus: Pipe between nodes through which messages flow\n",
    "    - Node must publish to a topic to send a message to it, or subscribe to a topic to receive a message from it.\n",
    "    - A single node may simultaneously publish and subscribe to many topics.\n",
    "    \n",
    "Compute graph of a publish-subscribe (pub-sub) architecture:\n",
    "![](images/22-1.png)\n"
   ]
  },
  {
   "cell_type": "markdown",
   "metadata": {},
   "source": [
    "### Message passing\n",
    "- Over 200 different message types (on a ROS distribution) for communicating physical quantities (s, v, a, rotations, t), sensor readings (laser scans, point clouds, inertial measurements), \n",
    "- Can define your own message types.\n",
    "\n",
    "### Services\n",
    "- Allow passing of messages between nodes on a one-to-one basis using a request-response pattern.\n",
    "- Not a bus, no publishers or subscribers.\n",
    "- Useful if e.g. a behaviour executor only wants to capture an image from the camera every once in a while.\n",
    "    - Can trigger new sensor measurements\n",
    "    \n",
    "### Compute Graphs\n",
    "\n",
    "Use the tool `rqt_graph` to visualise the compute graph of an ROS system."
   ]
  },
  {
   "cell_type": "markdown",
   "metadata": {},
   "source": [
    "### TurtleSim\n",
    "\n",
    "\n",
    "#### History of turtles in robotics\n",
    "- William Gray Walter created robotic turtles as some of the first autonomous devices in the 1940s\n",
    "- Seymour Papert used turtles in robotics education in the 1960s at MIT (LOGO programming language)\n"
   ]
  },
  {
   "cell_type": "markdown",
   "metadata": {
    "collapsed": true
   },
   "source": [
    "### ROS commands\n",
    "- Run ROS master process:\n",
    "`roscore`\n",
    "- Run turtlesim node\n",
    "    - `rosrun turtlesim turtlesim_node`\n",
    "- List the nodes that are running\n",
    "    - `rosnode list`: queries `rosmaster`\n",
    "    - ROSOUT aggregates, filters and logs messages to a text file.\n",
    "- List all topics: `rostopic list`\n",
    "- Get information about a specific topic: `rostopic info $topic_name`\n",
    "    - e.g. `rostopic info /turtle1/cmd_vel`\n",
    "- Show message information: `rosmsg show geometry_msgs/Twist`\n",
    "    - Shows definition Twist type from the package `geometry_msgs`\n",
    "- `rosed geometry_msgs/Twist'\n",
    "- Echo messages on a topic: `rostopic echo TOPIC_NAME`\n",
    "### Other commands\n",
    "- TAB twice: view commands that start with the char sequence you've typed."
   ]
  }
 ],
 "metadata": {
  "kernelspec": {
   "display_name": "Python 3",
   "language": "python",
   "name": "python3"
  },
  "language_info": {
   "codemirror_mode": {
    "name": "ipython",
    "version": 3
   },
   "file_extension": ".py",
   "mimetype": "text/x-python",
   "name": "python",
   "nbconvert_exporter": "python",
   "pygments_lexer": "ipython3",
   "version": "3.6.0"
  }
 },
 "nbformat": 4,
 "nbformat_minor": 2
}
