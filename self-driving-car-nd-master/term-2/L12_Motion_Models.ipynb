{
 "cells": [
  {
   "cell_type": "markdown",
   "metadata": {},
   "source": [
    "# Motion Models\n",
    "\n",
    "## Bicycle motion model: from a car to a bicycle\n",
    "* Ignore verticle dynamics of the model.\n",
    "* Assume front wheels like one wheel, likewise with back wheels.\n",
    "* Assume car controlled like a bicycle.\n",
    "\n",
    "### Yaw rate equations\n",
    "\n",
    "Yaw: Rotation of the car about the z-axis.\n",
    "\n",
    "![](images/12.1.png)\n",
    "![](images/12.2_seenotes.png)\n",
    "\n",
    "### Frames of reference: a comparison (Localisation vs Sensor Fusion)\n",
    "* Coordinates: L uses vehicle or map coordinates, S uses only vehicle coordinates.\n",
    "* Position of car described in: L: map. S: car always assumed to be at origin of the vehicle coord system.\n",
    "* Sensor measurements in: L, S (both) vehicle coords.\n",
    "* Map: L: Map landmarks in map coordinates. S: No map.\n",
    "\n",
    "### Roll, Pitch and Yaw\n",
    "* Roll: Rotation of the car about the x-axis.\n",
    "* Pitch: Rotation of the car about the y-axis.\n",
    "    * Important in hilly places.\n",
    "\n",
    "![](images/12.3.png)\n",
    "\n",
    "### Odometry: Motion sensor data\n",
    "* Commonly from wheel sensors (number of wheel rotations -> distance travelled)\n",
    "* Errors on \n",
    "    * wet (slipping wheels travel less than expected + slide when braking) roads or \n",
    "    * bumpy roads (overestimates distance since car moves up and down vs assumed it doesn't move vertically).\n",
    "    \n",
    "    \n",
    "![](images/12.4.png)"
   ]
  }
 ],
 "metadata": {
  "kernelspec": {
   "display_name": "Python 3",
   "language": "python",
   "name": "python3"
  },
  "language_info": {
   "codemirror_mode": {
    "name": "ipython",
    "version": 3
   },
   "file_extension": ".py",
   "mimetype": "text/x-python",
   "name": "python",
   "nbconvert_exporter": "python",
   "pygments_lexer": "ipython3",
   "version": "3.6.0"
  }
 },
 "nbformat": 4,
 "nbformat_minor": 2
}
