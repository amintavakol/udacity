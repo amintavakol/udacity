{
 "cells": [
  {
   "cell_type": "markdown",
   "metadata": {},
   "source": [
    "### Introduction\n",
    "\n",
    "Outcome of this module: \n",
    "* Implement sensor fusion algorithm to track pedestrian relative to a car by fusing lidar and radar using a Kalman filter.\n",
    "\n",
    "Sensor fusion needs to happen quickly: need to use high-performance language (C++) instead of Python.\n",
    "\n",
    "### Sensors on a self-driving car\n",
    "* Two stereo cameras that act like eyes\n",
    "* Traffic signals may be on other side of intersection -> use special lens to give camera range to detect \n",
    "\n",
    "#### Radar\n",
    "Stands for 'radio detection and ranging'.\n",
    "* sits behind front bumpers\n",
    "* Uses Doppler effect (change in frequency of radar waves) to measure velocity directly. \n",
    "* Gives us velocity as an independent parameter and allows sensor fusion algorithm to converge faster.\n",
    "* Generates radar maps to help with localisation. \n",
    "    * Provides measurements to objects without direct line of sight. Approx 150 deg field of vision, 200m range. \n",
    "    * Resolution in vertical direction limited.\n",
    "    * Radar clutter: Reflection across static objects e.g. soda cans on the street or manhole covers can cause problems. -> disregard static objects.\n",
    "\n",
    "#### Lidar\n",
    "Stands for 'light detection and ranging'.\n",
    "* Infrared laser beam to det distance. \n",
    "* Lasers pulsed, pulses reflected by objects. Reflections return a point cloud that represents these objects.\n",
    "* Relies on difference between two or more scans to calculate velocity (as opposed to measuring it directly as with radars)\n",
    "* 900nm wavelength range, some use longer wavelengths -> better in rain or fog.\n",
    "[](2-3.png)\n"
   ]
  }
 ],
 "metadata": {
  "kernelspec": {
   "display_name": "Python 3",
   "language": "python",
   "name": "python3"
  },
  "language_info": {
   "codemirror_mode": {
    "name": "ipython",
    "version": 3
   },
   "file_extension": ".py",
   "mimetype": "text/x-python",
   "name": "python",
   "nbconvert_exporter": "python",
   "pygments_lexer": "ipython3",
   "version": "3.6.0"
  }
 },
 "nbformat": 4,
 "nbformat_minor": 2
}
